{
 "cells": [
  {
   "cell_type": "code",
   "execution_count": 14,
   "id": "ca889e28-c7f2-4ba4-9d65-3a3829f1b312",
   "metadata": {},
   "outputs": [
    {
     "name": "stdin",
     "output_type": "stream",
     "text": [
      " 145\n"
     ]
    },
    {
     "name": "stdout",
     "output_type": "stream",
     "text": [
      "Entered number is strong number\n"
     ]
    }
   ],
   "source": [
    "p=int(input())\n",
    "p1=p\n",
    "s=0\n",
    "n=0\n",
    "m=1\n",
    "while(p>=1):\n",
    "    n=p%10\n",
    "    p=p//10\n",
    "    for i in range(1,n+1):\n",
    "       m=m*i  \n",
    "    s=s+m\n",
    "    m=1\n",
    "if s==p1:\n",
    "    print(\"Entered number is strong number\");\n",
    "else:\n",
    "    print(\"Enetered number is not  strong number\");\n"
   ]
  },
  {
   "cell_type": "code",
   "execution_count": 17,
   "id": "efd514cb-009a-489e-8371-e789f471c720",
   "metadata": {},
   "outputs": [
    {
     "name": "stdin",
     "output_type": "stream",
     "text": [
      "Enter a number:  145\n"
     ]
    },
    {
     "name": "stdout",
     "output_type": "stream",
     "text": [
      "Entered number is a strong number\n"
     ]
    }
   ],
   "source": [
    "p = int(input(\"Enter a number: \"))\n",
    "p1 = p\n",
    "s = 0\n",
    "n = 0\n",
    "m = 1\n",
    "def factorial(num):\n",
    "    result = 1\n",
    "    for i in range(1, num + 1):\n",
    "        result *= i\n",
    "    return result\n",
    "while p >= 1:\n",
    "    n = p % 10\n",
    "    p = p // 10\n",
    "    m = factorial(n)\n",
    "    s += m\n",
    "if s == p1:\n",
    "    print(\"Entered number is a strong number\")\n",
    "else:\n",
    "    print(\"Entered number is not a strong number\")\n"
   ]
  },
  {
   "cell_type": "code",
   "execution_count": null,
   "id": "3edc2fa5-397f-4293-9be7-c51c4a836a60",
   "metadata": {},
   "outputs": [],
   "source": []
  }
 ],
 "metadata": {
  "kernelspec": {
   "display_name": "Python 3 (ipykernel)",
   "language": "python",
   "name": "python3"
  },
  "language_info": {
   "codemirror_mode": {
    "name": "ipython",
    "version": 3
   },
   "file_extension": ".py",
   "mimetype": "text/x-python",
   "name": "python",
   "nbconvert_exporter": "python",
   "pygments_lexer": "ipython3",
   "version": "3.11.5"
  }
 },
 "nbformat": 4,
 "nbformat_minor": 5
}
