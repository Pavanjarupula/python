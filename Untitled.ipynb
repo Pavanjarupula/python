{
 "cells": [
  {
   "cell_type": "code",
   "execution_count": 1,
   "id": "d60241eb",
   "metadata": {},
   "outputs": [
    {
     "ename": "NameError",
     "evalue": "name 'addElement' is not defined",
     "output_type": "error",
     "traceback": [
      "\u001b[1;31m---------------------------------------------------------------------------\u001b[0m",
      "\u001b[1;31mNameError\u001b[0m                                 Traceback (most recent call last)",
      "Cell \u001b[1;32mIn [1], line 28\u001b[0m\n\u001b[0;32m     26\u001b[0m ob\u001b[38;5;241m=\u001b[39mLinkedList()\n\u001b[0;32m     27\u001b[0m head\u001b[38;5;241m=\u001b[39mNode(\u001b[38;5;241m10\u001b[39m)\n\u001b[1;32m---> 28\u001b[0m ob\u001b[38;5;241m=\u001b[39m\u001b[43maddElement\u001b[49m(head,\u001b[38;5;241m20\u001b[39m)\n\u001b[0;32m     29\u001b[0m ob\u001b[38;5;241m=\u001b[39maddElement(head,\u001b[38;5;241m30\u001b[39m)\n\u001b[0;32m     30\u001b[0m ob\u001b[38;5;241m=\u001b[39maddElement(head,\u001b[38;5;241m40\u001b[39m)\n",
      "\u001b[1;31mNameError\u001b[0m: name 'addElement' is not defined"
     ]
    }
   ],
   "source": [
    "class Node:\n",
    "    data=None\n",
    "    address=None\n",
    "    def __init__(self,value):\n",
    "        self.data=value\n",
    "        \n",
    "#ob=Node(100)\n",
    "#print(ob.data)\n",
    "        \n",
    "class LinkedList:\n",
    "    def addElement(self,head,value):\n",
    "        new_node=Node(value)\n",
    "        #print(new_node)\n",
    "        cur=head\n",
    "        while cur.address !=None:\n",
    "            cur=cur.address\n",
    "        cur.address=new_node\n",
    "    def print_list(self,head):\n",
    "        cur=head\n",
    "        while cur!=None:\n",
    "            print(cur.data)\n",
    "            cur=cur.address\n",
    "    def removeElement(self):\n",
    "        pass\n",
    "\n",
    "ob=LinkedList()\n",
    "head=Node(10)\n",
    "ob.addElement(head,20)\n",
    "ob=addElement(head,30)\n",
    "ob.addElement(head,40)\n",
    "ob.addElement(head,50)\n",
    "ob.print_list(head)"
   ]
  },
  {
   "cell_type": "code",
   "execution_count": null,
   "id": "9906eaff",
   "metadata": {},
   "outputs": [],
   "source": []
  }
 ],
 "metadata": {
  "kernelspec": {
   "display_name": "Python 3 (ipykernel)",
   "language": "python",
   "name": "python3"
  },
  "language_info": {
   "codemirror_mode": {
    "name": "ipython",
    "version": 3
   },
   "file_extension": ".py",
   "mimetype": "text/x-python",
   "name": "python",
   "nbconvert_exporter": "python",
   "pygments_lexer": "ipython3",
   "version": "3.10.7"
  }
 },
 "nbformat": 4,
 "nbformat_minor": 5
}
